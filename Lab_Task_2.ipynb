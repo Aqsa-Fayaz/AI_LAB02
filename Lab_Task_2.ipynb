{
  "cells": [
    {
      "cell_type": "markdown",
      "metadata": {
        "id": "v8rqnoOM0NqI"
      },
      "source": [
        "# TASK 1\n",
        "dataset link : https://raw.githubusercontent.com/TirendazAcademy/PANDAS-TUTORIAL/main/DataSets/vgsalesGlobale.csv\n",
        "#Exercise\n",
        "Use the dataset of Game, we have explored earlier and perform following operations.\n",
        "\n",
        "* Calculate the total global sales for all games in the dataset.\n",
        "* Find the game with the highest global sales.\n",
        "* Determine the average sales for each region (NA_Sales, EU_Sales, JP_Sales, Other_Sales).\n",
        "* Find the top 5 most popular game genres based on global sales.\n",
        "* Calculate the total sales for each genre in each region.\n",
        "* Find the most popular genre in North America (NA_Sales).\n",
        "* Display last 10 rows.\n",
        "* Determine the top 3 gaming platforms with the highest global sales.\n",
        "* Calculate the market share (percentage of global sales) for each genre.\n",
        "* Calculate the correlation coefficient between NA_Sales and EU_Sales. (.corr function)"
      ]
    },
    {
      "cell_type": "code",
      "execution_count": 1,
      "metadata": {},
      "outputs": [
        {
          "name": "stdout",
          "output_type": "stream",
          "text": [
            "The total global sales for the game is:  8920.44\n",
            "The game with the highest global sales is:  82.74\n",
            "The average sales in North America is:  0.26466742981082064\n",
            "The average sales in Japan is:  0.077781660441017\n",
            "The average sales in Europe is:  0.14665200626581515\n",
            "The top 5 popular genres based on global sales are:  Genre\n",
            "Action          1751.18\n",
            "Sports          1330.93\n",
            "Shooter         1037.37\n",
            "Role-Playing     927.37\n",
            "Platform         831.37\n",
            "Name: Global_Sales, dtype: float64\n",
            "The total sales for each genre for each region are:                NA_Sales  JP_Sales  EU_Sales\n",
            "Genre                                     \n",
            "Action          877.83    159.95    525.00\n",
            "Adventure       105.80     52.07     64.13\n",
            "Fighting        223.59     87.35    101.32\n",
            "Misc            410.24    107.76    215.98\n",
            "Platform        447.05    130.77    201.63\n",
            "Puzzle          123.78     57.31     50.78\n",
            "Racing          359.42     56.69    238.39\n",
            "Role-Playing    327.28    352.31    188.06\n",
            "Shooter         582.60     38.28    313.27\n",
            "Simulation      183.31     63.70    113.38\n",
            "Sports          683.35    135.37    376.85\n",
            "Strategy         68.70     49.46     45.34\n"
          ]
        }
      ],
      "source": [
        "import pandas as pd\n",
        "\n",
        "# Load the data into a DataFrame\n",
        "df = pd.read_csv('vgsalesGlobale.csv')\n",
        "\n",
        "#calculate the total global sales for the game \n",
        "total_sales = df['Global_Sales'].sum()\n",
        "print(\"The total global sales for the game is: \", total_sales)\n",
        "\n",
        "#Find the game with the highest global sales\n",
        "highest_sales=df['Global_Sales'].max()\n",
        "print(\"The game with the highest global sales is: \", highest_sales)\n",
        "\n",
        "#avg sale of each region\n",
        "NU = df['NA_Sales'].mean()\n",
        "JP = df['JP_Sales'].mean()\n",
        "EU = df['EU_Sales'].mean()\n",
        "\n",
        "print(\"The average sales in North America is: \", NU)\n",
        "print(\"The average sales in Japan is: \", JP)\n",
        "print(\"The average sales in Europe is: \", EU)\n",
        "\n",
        "\n",
        "# Find the top 5 most popular game genres based on global sales\n",
        "pop_5 = df.groupby('Genre')['Global_Sales'].sum()\n",
        "pop_5 = pop_5.sort_values(ascending=False).head(5)\n",
        "print(\"The top 5 popular genres based on global sales are: \", pop_5)\n",
        "\n",
        "#total sales for each genre for each region\n",
        "total_sales_genre = df.groupby('Genre')[['NA_Sales', 'JP_Sales', 'EU_Sales']].sum()\n",
        "print(\"The total sales for each genre for each region are: \", total_sales_genre)\n",
        "\n",
        "\n"
      ]
    },
    {
      "cell_type": "code",
      "execution_count": 2,
      "metadata": {},
      "outputs": [
        {
          "data": {
            "text/plain": [
              "'The last 10 rows are: '"
            ]
          },
          "metadata": {},
          "output_type": "display_data"
        },
        {
          "data": {
            "text/html": [
              "<div>\n",
              "<style scoped>\n",
              "    .dataframe tbody tr th:only-of-type {\n",
              "        vertical-align: middle;\n",
              "    }\n",
              "\n",
              "    .dataframe tbody tr th {\n",
              "        vertical-align: top;\n",
              "    }\n",
              "\n",
              "    .dataframe thead th {\n",
              "        text-align: right;\n",
              "    }\n",
              "</style>\n",
              "<table border=\"1\" class=\"dataframe\">\n",
              "  <thead>\n",
              "    <tr style=\"text-align: right;\">\n",
              "      <th></th>\n",
              "      <th>Rank</th>\n",
              "      <th>Name</th>\n",
              "      <th>Platform</th>\n",
              "      <th>Year</th>\n",
              "      <th>Genre</th>\n",
              "      <th>Publisher</th>\n",
              "      <th>NA_Sales</th>\n",
              "      <th>EU_Sales</th>\n",
              "      <th>JP_Sales</th>\n",
              "      <th>Other_Sales</th>\n",
              "      <th>Global_Sales</th>\n",
              "    </tr>\n",
              "  </thead>\n",
              "  <tbody>\n",
              "    <tr>\n",
              "      <th>16588</th>\n",
              "      <td>16591</td>\n",
              "      <td>Mega Brain Boost</td>\n",
              "      <td>DS</td>\n",
              "      <td>2008.0</td>\n",
              "      <td>Puzzle</td>\n",
              "      <td>Majesco Entertainment</td>\n",
              "      <td>0.01</td>\n",
              "      <td>0.00</td>\n",
              "      <td>0.00</td>\n",
              "      <td>0.0</td>\n",
              "      <td>0.01</td>\n",
              "    </tr>\n",
              "    <tr>\n",
              "      <th>16589</th>\n",
              "      <td>16592</td>\n",
              "      <td>Chou Ezaru wa Akai Hana: Koi wa Tsuki ni Shiru...</td>\n",
              "      <td>PSV</td>\n",
              "      <td>2016.0</td>\n",
              "      <td>Action</td>\n",
              "      <td>dramatic create</td>\n",
              "      <td>0.00</td>\n",
              "      <td>0.00</td>\n",
              "      <td>0.01</td>\n",
              "      <td>0.0</td>\n",
              "      <td>0.01</td>\n",
              "    </tr>\n",
              "    <tr>\n",
              "      <th>16590</th>\n",
              "      <td>16593</td>\n",
              "      <td>Eiyuu Densetsu: Sora no Kiseki Material Collec...</td>\n",
              "      <td>PSP</td>\n",
              "      <td>2007.0</td>\n",
              "      <td>Role-Playing</td>\n",
              "      <td>Falcom Corporation</td>\n",
              "      <td>0.00</td>\n",
              "      <td>0.00</td>\n",
              "      <td>0.01</td>\n",
              "      <td>0.0</td>\n",
              "      <td>0.01</td>\n",
              "    </tr>\n",
              "    <tr>\n",
              "      <th>16591</th>\n",
              "      <td>16594</td>\n",
              "      <td>Myst IV: Revelation</td>\n",
              "      <td>PC</td>\n",
              "      <td>2004.0</td>\n",
              "      <td>Adventure</td>\n",
              "      <td>Ubisoft</td>\n",
              "      <td>0.01</td>\n",
              "      <td>0.00</td>\n",
              "      <td>0.00</td>\n",
              "      <td>0.0</td>\n",
              "      <td>0.01</td>\n",
              "    </tr>\n",
              "    <tr>\n",
              "      <th>16592</th>\n",
              "      <td>16595</td>\n",
              "      <td>Plushees</td>\n",
              "      <td>DS</td>\n",
              "      <td>2008.0</td>\n",
              "      <td>Simulation</td>\n",
              "      <td>Destineer</td>\n",
              "      <td>0.01</td>\n",
              "      <td>0.00</td>\n",
              "      <td>0.00</td>\n",
              "      <td>0.0</td>\n",
              "      <td>0.01</td>\n",
              "    </tr>\n",
              "    <tr>\n",
              "      <th>16593</th>\n",
              "      <td>16596</td>\n",
              "      <td>Woody Woodpecker in Crazy Castle 5</td>\n",
              "      <td>GBA</td>\n",
              "      <td>2002.0</td>\n",
              "      <td>Platform</td>\n",
              "      <td>Kemco</td>\n",
              "      <td>0.01</td>\n",
              "      <td>0.00</td>\n",
              "      <td>0.00</td>\n",
              "      <td>0.0</td>\n",
              "      <td>0.01</td>\n",
              "    </tr>\n",
              "    <tr>\n",
              "      <th>16594</th>\n",
              "      <td>16597</td>\n",
              "      <td>Men in Black II: Alien Escape</td>\n",
              "      <td>GC</td>\n",
              "      <td>2003.0</td>\n",
              "      <td>Shooter</td>\n",
              "      <td>Infogrames</td>\n",
              "      <td>0.01</td>\n",
              "      <td>0.00</td>\n",
              "      <td>0.00</td>\n",
              "      <td>0.0</td>\n",
              "      <td>0.01</td>\n",
              "    </tr>\n",
              "    <tr>\n",
              "      <th>16595</th>\n",
              "      <td>16598</td>\n",
              "      <td>SCORE International Baja 1000: The Official Game</td>\n",
              "      <td>PS2</td>\n",
              "      <td>2008.0</td>\n",
              "      <td>Racing</td>\n",
              "      <td>Activision</td>\n",
              "      <td>0.00</td>\n",
              "      <td>0.00</td>\n",
              "      <td>0.00</td>\n",
              "      <td>0.0</td>\n",
              "      <td>0.01</td>\n",
              "    </tr>\n",
              "    <tr>\n",
              "      <th>16596</th>\n",
              "      <td>16599</td>\n",
              "      <td>Know How 2</td>\n",
              "      <td>DS</td>\n",
              "      <td>2010.0</td>\n",
              "      <td>Puzzle</td>\n",
              "      <td>7G//AMES</td>\n",
              "      <td>0.00</td>\n",
              "      <td>0.01</td>\n",
              "      <td>0.00</td>\n",
              "      <td>0.0</td>\n",
              "      <td>0.01</td>\n",
              "    </tr>\n",
              "    <tr>\n",
              "      <th>16597</th>\n",
              "      <td>16600</td>\n",
              "      <td>Spirits &amp; Spells</td>\n",
              "      <td>GBA</td>\n",
              "      <td>2003.0</td>\n",
              "      <td>Platform</td>\n",
              "      <td>Wanadoo</td>\n",
              "      <td>0.01</td>\n",
              "      <td>0.00</td>\n",
              "      <td>0.00</td>\n",
              "      <td>0.0</td>\n",
              "      <td>0.01</td>\n",
              "    </tr>\n",
              "  </tbody>\n",
              "</table>\n",
              "</div>"
            ],
            "text/plain": [
              "        Rank                                               Name Platform  \\\n",
              "16588  16591                                   Mega Brain Boost       DS   \n",
              "16589  16592  Chou Ezaru wa Akai Hana: Koi wa Tsuki ni Shiru...      PSV   \n",
              "16590  16593  Eiyuu Densetsu: Sora no Kiseki Material Collec...      PSP   \n",
              "16591  16594                                Myst IV: Revelation       PC   \n",
              "16592  16595                                           Plushees       DS   \n",
              "16593  16596                 Woody Woodpecker in Crazy Castle 5      GBA   \n",
              "16594  16597                      Men in Black II: Alien Escape       GC   \n",
              "16595  16598   SCORE International Baja 1000: The Official Game      PS2   \n",
              "16596  16599                                         Know How 2       DS   \n",
              "16597  16600                                   Spirits & Spells      GBA   \n",
              "\n",
              "         Year         Genre              Publisher  NA_Sales  EU_Sales  \\\n",
              "16588  2008.0        Puzzle  Majesco Entertainment      0.01      0.00   \n",
              "16589  2016.0        Action        dramatic create      0.00      0.00   \n",
              "16590  2007.0  Role-Playing     Falcom Corporation      0.00      0.00   \n",
              "16591  2004.0     Adventure                Ubisoft      0.01      0.00   \n",
              "16592  2008.0    Simulation              Destineer      0.01      0.00   \n",
              "16593  2002.0      Platform                  Kemco      0.01      0.00   \n",
              "16594  2003.0       Shooter             Infogrames      0.01      0.00   \n",
              "16595  2008.0        Racing             Activision      0.00      0.00   \n",
              "16596  2010.0        Puzzle               7G//AMES      0.00      0.01   \n",
              "16597  2003.0      Platform                Wanadoo      0.01      0.00   \n",
              "\n",
              "       JP_Sales  Other_Sales  Global_Sales  \n",
              "16588      0.00          0.0          0.01  \n",
              "16589      0.01          0.0          0.01  \n",
              "16590      0.01          0.0          0.01  \n",
              "16591      0.00          0.0          0.01  \n",
              "16592      0.00          0.0          0.01  \n",
              "16593      0.00          0.0          0.01  \n",
              "16594      0.00          0.0          0.01  \n",
              "16595      0.00          0.0          0.01  \n",
              "16596      0.00          0.0          0.01  \n",
              "16597      0.00          0.0          0.01  "
            ]
          },
          "metadata": {},
          "output_type": "display_data"
        },
        {
          "data": {
            "text/plain": [
              "'The top 3 platforms based on global sales are: '"
            ]
          },
          "metadata": {},
          "output_type": "display_data"
        },
        {
          "data": {
            "text/plain": [
              "Platform\n",
              "PS2     1255.64\n",
              "X360     979.96\n",
              "PS3      957.84\n",
              "Name: Global_Sales, dtype: float64"
            ]
          },
          "metadata": {},
          "output_type": "display_data"
        },
        {
          "data": {
            "text/plain": [
              "'The percentage of global sales for each genre is: '"
            ]
          },
          "metadata": {},
          "output_type": "display_data"
        },
        {
          "data": {
            "text/plain": [
              "Genre\n",
              "Action          19.631094\n",
              "Adventure        2.679688\n",
              "Fighting         5.032375\n",
              "Misc             9.079821\n",
              "Platform         9.319832\n",
              "Puzzle           2.745941\n",
              "Racing           8.206322\n",
              "Role-Playing    10.396012\n",
              "Shooter         11.629135\n",
              "Simulation       4.396644\n",
              "Sports          14.920004\n",
              "Strategy         1.963132\n",
              "Name: Global_Sales, dtype: float64"
            ]
          },
          "metadata": {},
          "output_type": "display_data"
        },
        {
          "data": {
            "text/plain": [
              "'The correlation between NA_Sales and EU_Sales is: '"
            ]
          },
          "metadata": {},
          "output_type": "display_data"
        },
        {
          "data": {
            "text/plain": [
              "np.float64(0.767726748370264)"
            ]
          },
          "metadata": {},
          "output_type": "display_data"
        }
      ],
      "source": [
        "#pop genre in na\n",
        "pop_NA  =total_sales_genre ['NA_Sales'].idxmax()\n",
        "(\"The most popular genre in North America is: \", pop_NA)\n",
        "\n",
        "#last 10 rows\n",
        "last_10= df.tail(10)\n",
        "display(\"The last 10 rows are: \", last_10)\n",
        "#top3 platforms based on global sales\n",
        "top_3 = df.groupby('Platform')['Global_Sales'].sum().sort_values(ascending=False).head(3)\n",
        "display(\"The top 3 platforms based on global sales are: \", top_3)\n",
        "\n",
        "#percentage of global sales for each genre\n",
        "percent = df.groupby('Genre')['Global_Sales'].sum()\n",
        "percent = percent/total_sales*100\n",
        "display(\"The percentage of global sales for each genre is: \", percent)\n",
        "\n",
        "#corrlation between NA_sales and EU_sales\n",
        "cor = df['NA_Sales'].corr(df['EU_Sales'])\n",
        "display(\"The correlation between NA_Sales and EU_Sales is: \", cor)\n"
      ]
    },
    {
      "cell_type": "markdown",
      "metadata": {
        "id": "TAcoA0P60GrS"
      },
      "source": [
        "## Task 2 English-Spanish Dictionary\n",
        "You are creating a basic English-Spanish dictionary that allows users to look up English words and find their Spanish translations.\n",
        "\n",
        "\n",
        "### Tasks\n",
        "* Create a dictionary where English words are keys and their Spanish translations are values.\n",
        "* Ask the user to input an English word.\n",
        "* Check if the word exists in the dictionary.\n",
        "* If the word exists, print its Spanish translation.\n",
        "* If the word does not exist, inform the user that the translation is not available.\n",
        "* Implement a loop that allows the user to keep looking up words until they choose to exit.\n"
      ]
    },
    {
      "cell_type": "code",
      "execution_count": 3,
      "metadata": {},
      "outputs": [
        {
          "name": "stdout",
          "output_type": "stream",
          "text": [
            "The Spanish translation of is:  hola\n"
          ]
        }
      ],
      "source": [
        "my_dictionary = {\n",
        "    \"hello\" : \"hola\",\n",
        "    \"goodbye\" : \"adios\",\n",
        "    \"thank you\" : \"gracias\",\n",
        "    \"please\" : \"por favor\",\n",
        "    \"sorry\" : \"lo siento\",\n",
        "}\n",
        "\n",
        "#loop till user exits\n",
        "while True:\n",
        "    user_input= input(\"Enter an English word or write exit: \\n\").lower()\n",
        "    if user_input == \"exit\":\n",
        "        break\n",
        "\n",
        "    if user_input in my_dictionary:\n",
        "        print(\"The Spanish translation of is: \", my_dictionary[user_input])\n",
        "    else:\n",
        "        print (\"oops,this word doesnt exist\\n\")"
      ]
    },
    {
      "cell_type": "markdown",
      "metadata": {
        "id": "l7D9aut90G_C"
      },
      "source": [
        "\n",
        "## Task 3 Email Classification\n",
        "Develope a tool which will classify an email.\n",
        "\n",
        "### Tasks:\n",
        "* Create a function classify_emails that takes a list of emails as an argument.\n",
        "* Inside the function, categorize emails into \"Important,\" \"Promotions,\" and \"Spam\" based on keywords and content analysis.\n",
        "* Loop through the emails and identify keywords to determine their category.\n",
        "* If an email contains keywords indicating importance, assign it as \"Important.\"\n",
        "* If an email contains keywords related to promotions or deals, assign it as \"Promotions.\"\n",
        "* If an email is suspected to be spam based on certain keywords or patterns, assign it as \"Spam.\"\n",
        "* Return three lists of emails for each category.\n",
        "* Print the lists."
      ]
    },
    {
      "cell_type": "code",
      "execution_count": 4,
      "metadata": {},
      "outputs": [
        {
          "name": "stdout",
          "output_type": "stream",
          "text": [
            "The emails are:  ['promotions', 'important', 'spam', 'more promotions', 'abit spam', 'very important', 'not important', 'aaahh promotions', 'hehe spam', 'promotions']\n",
            "Important emails are:  ['important', 'very important', 'not important']\n",
            "Spam emails are:  ['spam', 'abit spam', 'hehe spam']\n",
            "Other emails are:  ['promotions', 'more promotions', 'aaahh promotions', 'promotions']\n"
          ]
        }
      ],
      "source": [
        "email=['promotions','important','spam','more promotions','abit spam','very important','not important','aaahh promotions','hehe spam','promotions']\n",
        "important_emails = []\n",
        "spam_emails = []\n",
        "promotion_emails = []\n",
        "def classify_emails(emails):\n",
        "    for i in emails:\n",
        "        if 'important' in i:\n",
        "            important_emails.append(i)\n",
        "        elif 'spam' in i:\n",
        "            spam_emails.append(i)\n",
        "        elif 'promotions' in i:\n",
        "            promotion_emails.append(i)\n",
        "\n",
        "classify_emails(email)\n",
        "print(\"The emails are: \", email)\n",
        "print (\"Important emails are: \", important_emails)\n",
        "print (\"Spam emails are: \", spam_emails)\n",
        "print (\"Other emails are: \", promotion_emails)\n"
      ]
    },
    {
      "cell_type": "markdown",
      "metadata": {
        "id": "0brD8K130gh8"
      },
      "source": [
        "## Task 4 Online Store Shopping Cart\n",
        "Write a Python program to simulate the online store's shopping cart system. The program should use a while loop to provide an interactive shopping experience.\n",
        "\n",
        "\n",
        "### Tasks:\n",
        "* Initialize an empty list called shopping_cart to store items.\n",
        "* Display a welcome message and available products.\n",
        "* Loop should be iterating over AI Response Simulator and Investment decision and keep asking for user input.\n",
        "* Prompt the user to enter the number corresponding to the product they want to add to the cart.\n",
        "* Check if the user entered 'q'. If so, break the loop.\n",
        "* Convert the choice to an integer and validate it within the valid range (1 to 3).\n",
        "* Based on the user's choice, add the selected product to the shopping_cart list.\n",
        "* Display a confirmation message indicating the added product.\n",
        "* Continue the loop to allow the user to add more products or proceed to checkout.\n",
        "* After the loop ends, display the contents of the shopping cart.\n",
        "* Display a goodbye message.\n",
        "* End the program."
      ]
    },
    {
      "cell_type": "code",
      "execution_count": 5,
      "metadata": {},
      "outputs": [
        {
          "name": "stdout",
          "output_type": "stream",
          "text": [
            "WELCOME TO MODEST ATTIRE\n",
            "\n",
            "We have the following items in stock: \n",
            "\n",
            "1.Hijabs\n",
            "2.Abayas\n",
            "3.Jilbabs\n",
            "\n",
            "Hijab has been added to your cart\n",
            "\n",
            "Your shopping cart contains:  ['Hijab']\n",
            "Goodbyeee\n"
          ]
        }
      ],
      "source": [
        "shopping_cart=[]\n",
        "\n",
        "print (\"WELCOME TO MODEST ATTIRE\\n\")\n",
        "print (\"We have the following items in stock: \\n\")\n",
        "print (\"1.Hijabs\\n2.Abayas\\n3.Jilbabs\\n\")\n",
        "\n",
        "while True:\n",
        "    user_input = input(\"Enter the number of the item you would like to purchase or 'q' to exit: \\n\")\n",
        "    if user_input == \"q\":\n",
        "        break\n",
        "\n",
        "    if user_input == \"1\":\n",
        "        shopping_cart.append(\"Hijab\")\n",
        "        print(\"Hijab has been added to your cart\\n\")\n",
        "    elif user_input == \"2\":\n",
        "        shopping_cart.append(\"Abaya\")\n",
        "        print(\"Abaya has been added to your cart\\n\")\n",
        "    elif user_input == \"3\":\n",
        "        shopping_cart.append(\"Jilbab\")\n",
        "        print(\"Jilbab has been added to your cart\\n\")\n",
        "    else:\n",
        "        print(\"Invalid input. Please enter a number from 1-3 or 'q' to exit\\n\")\n",
        "\n",
        "print(\"Your shopping cart contains: \", shopping_cart)\n",
        "print(\"Goodbyeee\")"
      ]
    },
    {
      "cell_type": "markdown",
      "metadata": {
        "id": "2u1i-sXA0mYb"
      },
      "source": [
        "## Task 5\n",
        "* Create two NumPy arrays of the same shape and perform element-wise addition on them.\n",
        "* Calculate the element-wise product of two NumPy arrays."
      ]
    },
    {
      "cell_type": "code",
      "execution_count": 6,
      "metadata": {},
      "outputs": [
        {
          "name": "stdout",
          "output_type": "stream",
          "text": [
            "The sum of the two arrays is:  [ 7  9 11 13 15]\n",
            "The product of the two arrays is:  [ 6 14 24 36 50]\n"
          ]
        }
      ],
      "source": [
        "import numpy as np\n",
        "\n",
        "first_array = np.array((1, 2, 3, 4, 5))\n",
        "second_array = np.array((6, 7, 8, 9, 10))\n",
        "#sum\n",
        "sum = first_array + second_array\n",
        "print(\"The sum of the two arrays is: \", sum)\n",
        "\n",
        "product = first_array * second_array\n",
        "print(\"The product of the two arrays is: \", product)\n"
      ]
    },
    {
      "cell_type": "markdown",
      "metadata": {
        "id": "bhV4sIZU1Iui"
      },
      "source": [
        "## Task 6\n",
        "* Reshape a 1D NumPy array into a 2D array with dimensions (3, 4).\n",
        "\n",
        "* Concatenate two NumPy arrays horizontally and vertically."
      ]
    },
    {
      "cell_type": "code",
      "execution_count": 9,
      "metadata": {},
      "outputs": [
        {
          "name": "stdout",
          "output_type": "stream",
          "text": [
            "[[ 1  2  3  4]\n",
            " [ 5  6  7  8]\n",
            " [ 9 10 11 12]]\n"
          ]
        }
      ],
      "source": [
        "#1D TO 2D\n",
        "import numpy as np\n",
        "arr = np.array((1, 2, 3, 4, 5, 6, 7, 8, 9, 10, 11, 12))\n",
        "reshaped_arr = arr.reshape(3, 4)\n",
        "print(reshaped_arr)"
      ]
    },
    {
      "cell_type": "markdown",
      "metadata": {
        "id": "HJYa0CKL1bGi"
      },
      "source": [
        "## Task 7\n",
        "* Reverse A List In Python Using Slicing\n"
      ]
    },
    {
      "cell_type": "code",
      "execution_count": 8,
      "metadata": {},
      "outputs": [
        {
          "name": "stdout",
          "output_type": "stream",
          "text": [
            "The reversed list is:  [10, 9, 8, 7, 6, 5, 4, 3, 2, 1]\n"
          ]
        }
      ],
      "source": [
        "my_list= [1, 2, 3, 4, 5, 6, 7, 8, 9, 10]\n",
        "#reverse\n",
        "reversed_list = my_list[::-1]\n",
        "print(\"The reversed list is: \", reversed_list)"
      ]
    },
    {
      "cell_type": "markdown",
      "metadata": {
        "id": "hkrCxw4XSRl0"
      },
      "source": [
        "# TASK 8\n",
        "You need to download the GitHub Desktop software, push your lab task to your GitHub account, and share the link on GCR as a submission."
      ]
    }
  ],
  "metadata": {
    "colab": {
      "provenance": []
    },
    "kernelspec": {
      "display_name": "Python 3",
      "name": "python3"
    },
    "language_info": {
      "codemirror_mode": {
        "name": "ipython",
        "version": 3
      },
      "file_extension": ".py",
      "mimetype": "text/x-python",
      "name": "python",
      "nbconvert_exporter": "python",
      "pygments_lexer": "ipython3",
      "version": "3.12.5"
    }
  },
  "nbformat": 4,
  "nbformat_minor": 0
}
